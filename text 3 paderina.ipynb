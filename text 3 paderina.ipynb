{
 "cells": [
  {
   "cell_type": "code",
   "execution_count": 2,
   "id": "3eb04516",
   "metadata": {},
   "outputs": [
    {
     "name": "stdout",
     "output_type": "stream",
     "text": [
      "4\n",
      "5\n",
      "4\n",
      "7\n",
      "9\n",
      "0\n",
      "9\n",
      "0\n",
      "9\n",
      "8\n",
      "55\n"
     ]
    }
   ],
   "source": [
    "t = 0\n",
    "a = [0] * 10\n",
    "for i in range(len(a)):# задаем массив из 10 чис\n",
    "    a[i] = int(input())#ввод этих 10 чис\n",
    "    \n",
    "for i in range(len(a)):#кол во элементов в списке\n",
    "    t = int(t + a[i])#находим сумму\n",
    "    \n",
    "print(t)#вывод"
   ]
  },
  {
   "cell_type": "code",
   "execution_count": 3,
   "id": "2c1edbf2",
   "metadata": {},
   "outputs": [
    {
     "name": "stdout",
     "output_type": "stream",
     "text": [
      "5\n",
      "6\n",
      "7\n",
      "0\n",
      "9\n",
      "0\n",
      "0\n",
      "0\n",
      "9\n",
      "2\n",
      "4\n"
     ]
    }
   ],
   "source": [
    "t = 0\n",
    "a = [0] * 10#массив из 10 элементов\n",
    "for i in range(len(a)):#измеряем длину\n",
    "    a[i] = int(input())#ввод данных\n",
    "    \n",
    "for i in range(len(a)):#кол во эл равных 0\n",
    "    if a[i] == 0:\n",
    "        t+=1\n",
    "    \n",
    "print(t)#вывод"
   ]
  },
  {
   "cell_type": "code",
   "execution_count": 5,
   "id": "fe064db6",
   "metadata": {},
   "outputs": [
    {
     "name": "stdout",
     "output_type": "stream",
     "text": [
      "6\n",
      "1\n",
      "12\n",
      "123\n",
      "1234\n",
      "12345\n",
      "123456\n"
     ]
    }
   ],
   "source": [
    "t = int(input())#ввод до какого числа\n",
    "a = \"\"\n",
    "i = 1\n",
    "for i in range(t):\n",
    "    a = a + str(i+1)#каждый след эл +1\n",
    "    print(a)"
   ]
  },
  {
   "cell_type": "code",
   "execution_count": 6,
   "id": "eee342c6",
   "metadata": {},
   "outputs": [
    {
     "name": "stdout",
     "output_type": "stream",
     "text": [
      "5\n",
      "     1\n",
      "    121\n",
      "   12321\n",
      "  1234321\n",
      " 123454321\n"
     ]
    }
   ],
   "source": [
    "kat = [\"\"]*100\n",
    "a = \"\"\n",
    "i = 1\n",
    "n = int(input())\n",
    "for i in range(1,n+1): \n",
    "    if i == 0:\n",
    "        i = 1\n",
    "    b = a \n",
    "    a = a + str(i) #задаем строки\n",
    "    \n",
    "    kat = sorted(list(a), reverse=True)\n",
    "    for j in range(i):\n",
    "        b += kat [j]\n",
    "    print(\" \"*(n-i),b)   "
   ]
  },
  {
   "cell_type": "code",
   "execution_count": null,
   "id": "007c5d44",
   "metadata": {},
   "outputs": [],
   "source": []
  }
 ],
 "metadata": {
  "kernelspec": {
   "display_name": "Python 3",
   "language": "python",
   "name": "python3"
  },
  "language_info": {
   "codemirror_mode": {
    "name": "ipython",
    "version": 3
   },
   "file_extension": ".py",
   "mimetype": "text/x-python",
   "name": "python",
   "nbconvert_exporter": "python",
   "pygments_lexer": "ipython3",
   "version": "3.8.8"
  }
 },
 "nbformat": 4,
 "nbformat_minor": 5
}
