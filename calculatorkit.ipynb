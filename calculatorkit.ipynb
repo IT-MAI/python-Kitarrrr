{
 "cells": [
  {
   "cell_type": "code",
   "execution_count": null,
   "id": "f2cbc547",
   "metadata": {},
   "outputs": [
    {
     "name": "stdout",
     "output_type": "stream",
     "text": [
      "введите число \n",
      "3\n",
      "введите операцию\n",
      "*\n",
      "введите число \n",
      "6\n",
      "18.0\n",
      "нажмиите Y,чтобы повторить или любую кнопку чтобы выйти.\n"
     ]
    }
   ],
   "source": [
    "s='Y'\n",
    "while s=='Y':\n",
    "    print(\"введите число \")\n",
    "    num1=float(input())\n",
    "    print(\"введите операцию\")\n",
    "    op=input()\n",
    "    print(\"введите число \")\n",
    "    num2=float(input())\n",
    "    if op == \"+\":\n",
    "        print(num1+num2)\n",
    "    if op ==\"-\":\n",
    "        print(num1-num2)\n",
    "    if op ==\"*\":\n",
    "        print(num1*num2)\n",
    "    if op == \"/\":\n",
    "        print(num1/num2)\n",
    "    print(\"нажмиите Y,чтобы повторить или любую кнопку чтобы выйти.\")\n",
    "    s=input()"
   ]
  },
  {
   "cell_type": "code",
   "execution_count": null,
   "id": "51dbfb8f",
   "metadata": {},
   "outputs": [],
   "source": []
  }
 ],
 "metadata": {
  "kernelspec": {
   "display_name": "Python 3",
   "language": "python",
   "name": "python3"
  },
  "language_info": {
   "codemirror_mode": {
    "name": "ipython",
    "version": 3
   },
   "file_extension": ".py",
   "mimetype": "text/x-python",
   "name": "python",
   "nbconvert_exporter": "python",
   "pygments_lexer": "ipython3",
   "version": "3.8.8"
  }
 },
 "nbformat": 4,
 "nbformat_minor": 5
}
