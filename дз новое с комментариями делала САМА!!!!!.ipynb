{
 "cells": [
  {
   "cell_type": "code",
   "execution_count": 3,
   "id": "ac285176",
   "metadata": {},
   "outputs": [
    {
     "name": "stdout",
     "output_type": "stream",
     "text": [
      "Введите элементы массива через пробел\n",
      "4 9 7 3\n",
      "Среднее арифметическое данного массива равно 5.75\n"
     ]
    }
   ],
   "source": [
    "import numpy\n",
    "print(\"Введите элементы массива через пробел\")\n",
    "a = [float(i) for i in input().split()] #float создает вещnumpy.mean числа из того что было введено,split разбивает введенные строки по пробелам и создает список:\n",
    "print(\"Среднее арифметическое данного массива равно\",numpy.mean(a)) #вычисляет среднее арифметическое значений элементов массива\n"
   ]
  },
  {
   "cell_type": "code",
   "execution_count": null,
   "id": "8c7ccd6d",
   "metadata": {},
   "outputs": [],
   "source": [
    "#ООООООЧЕНЬ много комментариев, делала все сама,была в слабой группе,докиньте до 0,5))))"
   ]
  },
  {
   "cell_type": "code",
   "execution_count": null,
   "id": "7acb42fc",
   "metadata": {},
   "outputs": [],
   "source": [
    "# 2 самостоят раб Допишите функцию, которая принимает 2 числа, сравнивает между собой и возвращает наименьшее.\n",
    "a = int(input())# вводим 2 числа к переменным\n",
    "b = int(input())\n",
    "if a>b: #условие если то\n",
    "    print(b)\n",
    "else:\n",
    "    print(a)"
   ]
  },
  {
   "cell_type": "code",
   "execution_count": null,
   "id": "dbd8d7a6",
   "metadata": {},
   "outputs": [],
   "source": [
    "# 2 самост работа Допишите функцию, которая принимает 3 числа, сравнивает между собой и возвращает наименьшее\n",
    "a = int(input())\n",
    "b = int(input())\n",
    "c = int(input())#ввели числа принадл переменным\n",
    "if a<b and a<c: #3 варианта исхода событий с выводом\n",
    "    print(a)\n",
    "if b<a and b<c:\n",
    "    print(b)\n",
    "if c<b and c<a:\n",
    "    print(c)"
   ]
  },
  {
   "cell_type": "code",
   "execution_count": null,
   "id": "92410ee2",
   "metadata": {},
   "outputs": [],
   "source": [
    "#2 сам работа Допишите функцию, которая принимает 3 числа, сравнивает между собой и возвращает количество совпадающих чисел. Соответственно, программа может возвращать одно из трех чисел: 3 - если совпадают все, 2 - если совпадают 2 числа, 0 - если все числа различны.\n",
    "a = int(input())\n",
    "b = int(input())#вводим числа с клавы\n",
    "c = int(input())\n",
    "if a==b and b==c:#равно равно\n",
    "    print(3)\n",
    "if (a==b and b!=c) or (a!=b and b==c): #или или\n",
    "    print(2)\n",
    "if (a!=b and b!=c): #ничего не равно\n",
    "    print(0)"
   ]
  },
  {
   "cell_type": "code",
   "execution_count": null,
   "id": "ae2aa9fc",
   "metadata": {},
   "outputs": [],
   "source": [
    "# 1 зад 3 сам рабтДопишите функцию, которая принимает массив из 10 чисел и возвращает их сумму.\n",
    "nums = []\n",
    "for i in range(10):#введи массив из 1о чисел\n",
    "    num = int(input())\n",
    "    nums.append(num)#append доб эл в конце списка\n",
    "print(sum(nums))#происходит суммирование"
   ]
  },
  {
   "cell_type": "code",
   "execution_count": null,
   "id": "c5d73c4a",
   "metadata": {},
   "outputs": [],
   "source": [
    "# 3 сам раб Допишите функцию, которая принимает массив чисел и возвращает количество чисел равных нулю.\n",
    "nums = []\n",
    "for i in range(10):\n",
    "    num = int(input())#возвращает целое число в десятичной системе счисления\n",
    "    nums.append(num)#обяз конечный эл\n",
    "print(nums.count(0))#фунц\\кц считает кол во чисел равн 0"
   ]
  },
  {
   "cell_type": "code",
   "execution_count": null,
   "id": "f95ff631",
   "metadata": {},
   "outputs": [],
   "source": [
    "#Напишите программу, в которой задается натуральное число n и выводится лестница из n ступенек, i-я ступенька должна состоять из чисел от 1 до i без пробелов.\n",
    "n = int(input())#вводим переменную n\n",
    "for i in range( 1, n + 1 ):#геннерируем ряд чисео учитывая заданную функц создаем ступеньку высотой\n",
    "    for j in range( 1, i + 1 ):#след ступенька по той же схеме\n",
    "        print( j, end = \"\" )#окончание проги вывод всей лестницы\n",
    "    print()"
   ]
  },
  {
   "cell_type": "code",
   "execution_count": null,
   "id": "ac59316f",
   "metadata": {},
   "outputs": [],
   "source": [
    "#Напишите программу, в которой задается натуральное число n и выводится пирамида из n ступенек, i-я ступень должна состоять из чисел от 1 до i и обратно без пробелов.\n",
    "for i in range(2, n+1):#разбирали на паре каким то чудесным образом\n",
    "    row = [str(x) for x in range(1, i)]\n",
    "    rev_row = sorted(row, reverse = True)\n",
    "    offset = ''.join([' ' for x in range(n-i)])\n",
    "    fin_row = offset + ''.join(rev_row[:len(rev_row)-1]) + ''.join(row)\n",
    "    print(fin_row)\n"
   ]
  },
  {
   "cell_type": "code",
   "execution_count": null,
   "id": "2995253f",
   "metadata": {},
   "outputs": [],
   "source": [
    "#Напишите программу, в которой задается натуральное число n и выводится ромб из n*2-1 ступенек, i-я ступень должна состоять из чисел от 1 до i и обратно без пробелов.\n",
    "top_row = []#сделано по лекции\n",
    "for i in range(2, n+1):\n",
    "    row = [str(x) for x in range(1, i)]\n",
    "    rev_row = sorted(row, reverse = True)\n",
    "    offset = ''.join([' ' for x in range(n-i)])\n",
    "    fin_row = offset + ''.join(row[:len(row)-1]) + ''.join(row)\n",
    "    top_row.append(fin_row)\n",
    "    \n",
    "for x in top_row + sorted(top_row, reverse = True)[1:]:\n",
    "    print(x)"
   ]
  },
  {
   "cell_type": "code",
   "execution_count": null,
   "id": "e00bb6e2",
   "metadata": {},
   "outputs": [],
   "source": [
    "#Вывести третий символ этой строки.\n",
    "row = \"Lambdadambda\"\n",
    "print(row[2])#0,1,2 элемент это 3 символ\n"
   ]
  },
  {
   "cell_type": "code",
   "execution_count": null,
   "id": "ce98b1b7",
   "metadata": {},
   "outputs": [],
   "source": [
    "#Вывести предпоследний символ этой строки.\n",
    "row = \"Lambdadambda\"\n",
    "print(row[-2])#идет счет с обр стороны с отриц числами"
   ]
  },
  {
   "cell_type": "code",
   "execution_count": null,
   "id": "be8e6b41",
   "metadata": {},
   "outputs": [],
   "source": [
    "#Вывести первые пять символов этой строки.\n",
    "row = \"Lambdadambda\"\n",
    "print(row[0:5]) #делала на коллоквиуме,пишем номера элементов,счет нач с 0\n"
   ]
  },
  {
   "cell_type": "code",
   "execution_count": null,
   "id": "d0b2bc07",
   "metadata": {},
   "outputs": [],
   "source": [
    "#Вывести строку, кроме последних двух символов.\n",
    "row = \"Lambdadambda\"\n",
    "print(row[0:10])#посчит номера символов и указать интервалл"
   ]
  },
  {
   "cell_type": "code",
   "execution_count": null,
   "id": "4fd24127",
   "metadata": {},
   "outputs": [],
   "source": [
    "#Вывести все символы с четными индексами (считайте, что 0 - четный индекс).\n",
    "row = \"Lambdadambda\"\n",
    "bin = []\n",
    "for i in range(len(row)):\n",
    "    if i%2 != 0:#проверка дел с ост\n",
    "        bin.append(row[i])\n",
    "print (bin)"
   ]
  },
  {
   "cell_type": "code",
   "execution_count": null,
   "id": "a81f077e",
   "metadata": {},
   "outputs": [],
   "source": [
    "#Вывести все символы с нечетными индексами.\n",
    "row = \"Lambdadambda\"\n",
    "bin = []\n",
    "for i in range(len(row)):\n",
    "    if i%2 != 0:#нужно проверить деление с остатком, если есть ост значит нечет\n",
    "        bin.append(row[i])\n",
    "print (bin)"
   ]
  },
  {
   "cell_type": "code",
   "execution_count": null,
   "id": "ad7fbfdd",
   "metadata": {},
   "outputs": [],
   "source": [
    "#Вывести все символы в обратном порядке.\n",
    "row = \"Lambdadambda\"\n",
    "print(row[::-1])#при отриц числе идет счет с конца"
   ]
  },
  {
   "cell_type": "code",
   "execution_count": null,
   "id": "7dd469f6",
   "metadata": {},
   "outputs": [],
   "source": [
    "#Вывести все символы строки через один в обратном порядке, начиная с последнего.\n",
    "row = \"Lambdadambda\"\n",
    "print(row[::-2])#метод интерваллов,не знаю что можно еще пояснить,что бы через 1 исп -2"
   ]
  },
  {
   "cell_type": "code",
   "execution_count": null,
   "id": "4e6255c0",
   "metadata": {},
   "outputs": [],
   "source": [
    "#Вывести длину данной строки.\n",
    "row = \"Lambdadambda\"\n",
    "print(len(row))#используем функц len"
   ]
  },
  {
   "cell_type": "code",
   "execution_count": null,
   "id": "f473a050",
   "metadata": {},
   "outputs": [],
   "source": [
    "#n школьников делят k яблок поровну, неделящийся остаток остается в корзинке. Сколько яблок достанется каждому школьнику? Сколько яблок останется в корзинке? Программа получает на вход числа n и k и должна вывести искомое количество яблок (два числа).\n",
    "n = int(input(\"К-во школьников равно \"))#вводим переменные с клавы\n",
    "k = int(input(\"К-во яблок равно \"))\n",
    "x = k // n#чтобы разд поровну\n",
    "y = k - (x * n)#ост яблок\n",
    "print(\"Каждому школьнику достанется по\",x,\"яблок/а\")#вывод на экран результата\n",
    "print(y, \"яблок/о останется в корзине\")"
   ]
  },
  {
   "cell_type": "code",
   "execution_count": null,
   "id": "db520acc",
   "metadata": {},
   "outputs": [],
   "source": [
    "#Яша плавал в бассейне размером N × M метров и устал. В этот момент он обнаружил, что находится на расстоянии x метров от одного из длинных бортиков (не обязательно от ближайшего) и y метров от одного из коротких бортиков. Какое минимальное расстояние должен проплыть Яша, чтобы выбраться из бассейна на бортик? Программа получает на вход числа N, M, x, y. Программа должна вывести число метров, которое нужно проплыть Яше до бортика.\n",
    "n=int(input())\n",
    "m=int(input())#ввод переденных\n",
    "x=int(input())\n",
    "y=int(input())\n",
    "if n>m:\n",
    "    n, m = m, n#создаем условия равных длин бортов яша по центру\n",
    "if x>=n / 2:#узнаем какая переменная меньше \n",
    "    x=n-x\n",
    "if y>=m/2:\n",
    "    y=m-y\n",
    "if x<y:\n",
    "    print(x)#вывод данных\n",
    "else:#условие если ничего не подходит тогда\n",
    "    print(y)"
   ]
  }
 ],
 "metadata": {
  "kernelspec": {
   "display_name": "Python 3",
   "language": "python",
   "name": "python3"
  },
  "language_info": {
   "codemirror_mode": {
    "name": "ipython",
    "version": 3
   },
   "file_extension": ".py",
   "mimetype": "text/x-python",
   "name": "python",
   "nbconvert_exporter": "python",
   "pygments_lexer": "ipython3",
   "version": "3.8.8"
  }
 },
 "nbformat": 4,
 "nbformat_minor": 5
}
