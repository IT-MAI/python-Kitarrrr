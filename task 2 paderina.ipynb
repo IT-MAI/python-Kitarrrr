{
 "cells": [
  {
   "cell_type": "code",
   "execution_count": 1,
   "id": "36cf706c",
   "metadata": {},
   "outputs": [
    {
     "name": "stdout",
     "output_type": "stream",
     "text": [
      "2\n",
      "4\n",
      "2\n"
     ]
    }
   ],
   "source": [
    "#2 task\n",
    "#№1\n",
    "a = int(input())\n",
    "b = int(input())\n",
    "if a<b:\n",
    "    print(a)\n",
    "elif a>b:\n",
    "    print(b)"
   ]
  },
  {
   "cell_type": "code",
   "execution_count": 4,
   "id": "057f3f31",
   "metadata": {},
   "outputs": [
    {
     "name": "stdout",
     "output_type": "stream",
     "text": [
      "3\n",
      "4\n",
      "5\n",
      "3\n"
     ]
    }
   ],
   "source": [
    "a = int(input())\n",
    "b = int(input())\n",
    "c = int(input())\n",
    "if (a<b) and (a<c):\n",
    "    print(a)\n",
    "elif (b<a) and (b<c):\n",
    "    print(b)\n",
    "elif (b<a) and (b<c):\n",
    "    print(c)   "
   ]
  },
  {
   "cell_type": "code",
   "execution_count": 5,
   "id": "80bda084",
   "metadata": {},
   "outputs": [
    {
     "name": "stdout",
     "output_type": "stream",
     "text": [
      "6\n",
      "5\n",
      "4\n",
      "0\n"
     ]
    }
   ],
   "source": [
    "a = int(input())\n",
    "b = int(input())\n",
    "c = int(input())\n",
    "if (a==b) and (b==c):\n",
    "    print(3)\n",
    "if ((a==b) and (b!=c)) or ((a!=b) and (b==c)):\n",
    "    print(2)\n",
    "if ((a!=b) and (b!=c)): \n",
    "    print(0)"
   ]
  },
  {
   "cell_type": "code",
   "execution_count": null,
   "id": "9ac8d4d0",
   "metadata": {},
   "outputs": [],
   "source": []
  }
 ],
 "metadata": {
  "kernelspec": {
   "display_name": "Python 3",
   "language": "python",
   "name": "python3"
  },
  "language_info": {
   "codemirror_mode": {
    "name": "ipython",
    "version": 3
   },
   "file_extension": ".py",
   "mimetype": "text/x-python",
   "name": "python",
   "nbconvert_exporter": "python",
   "pygments_lexer": "ipython3",
   "version": "3.8.8"
  }
 },
 "nbformat": 4,
 "nbformat_minor": 5
}
