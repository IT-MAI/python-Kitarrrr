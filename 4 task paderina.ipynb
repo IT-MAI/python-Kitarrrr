{
 "cells": [
  {
   "cell_type": "code",
   "execution_count": 1,
   "id": "2595eade",
   "metadata": {},
   "outputs": [
    {
     "name": "stdout",
     "output_type": "stream",
     "text": [
      "m\n"
     ]
    }
   ],
   "source": [
    "row = \"Lambdadambda\"\n",
    "print (row[2])"
   ]
  },
  {
   "cell_type": "code",
   "execution_count": 2,
   "id": "d71b30c4",
   "metadata": {},
   "outputs": [
    {
     "name": "stdout",
     "output_type": "stream",
     "text": [
      "d\n"
     ]
    }
   ],
   "source": [
    "print (row[len(row)-2])\n"
   ]
  },
  {
   "cell_type": "code",
   "execution_count": 3,
   "id": "3fb72631",
   "metadata": {},
   "outputs": [
    {
     "name": "stdout",
     "output_type": "stream",
     "text": [
      "L\n",
      "a\n",
      "m\n",
      "b\n",
      "d\n"
     ]
    }
   ],
   "source": [
    "for i in range (0,5):\n",
    "    print(row[i])"
   ]
  },
  {
   "cell_type": "code",
   "execution_count": 4,
   "id": "ad3fa00d",
   "metadata": {},
   "outputs": [
    {
     "name": "stdout",
     "output_type": "stream",
     "text": [
      "L\n",
      "a\n",
      "m\n",
      "b\n",
      "d\n",
      "a\n",
      "d\n",
      "a\n",
      "m\n"
     ]
    }
   ],
   "source": [
    "for i in range (0,len(row)-3):\n",
    "    print(row[i])"
   ]
  },
  {
   "cell_type": "code",
   "execution_count": 5,
   "id": "976a2777",
   "metadata": {},
   "outputs": [
    {
     "name": "stdout",
     "output_type": "stream",
     "text": [
      "L\n",
      "m\n",
      "d\n",
      "d\n",
      "m\n",
      "d\n"
     ]
    }
   ],
   "source": [
    "for i in range(len(row)):\n",
    "    if i%2 == 0:\n",
    "        print(row[i])"
   ]
  },
  {
   "cell_type": "code",
   "execution_count": 6,
   "id": "ab7f723e",
   "metadata": {},
   "outputs": [
    {
     "name": "stdout",
     "output_type": "stream",
     "text": [
      "a\n",
      "b\n",
      "a\n",
      "a\n",
      "b\n",
      "a\n"
     ]
    }
   ],
   "source": [
    "for i in range(len(row)):\n",
    "    if i%2 == 1:\n",
    "        print(row[i])"
   ]
  },
  {
   "cell_type": "code",
   "execution_count": 7,
   "id": "de224c01",
   "metadata": {},
   "outputs": [
    {
     "name": "stdout",
     "output_type": "stream",
     "text": [
      "a\n",
      "d\n",
      "b\n",
      "m\n",
      "a\n",
      "d\n",
      "a\n",
      "d\n",
      "b\n",
      "m\n",
      "a\n",
      "L\n"
     ]
    }
   ],
   "source": [
    "for i in range (len(row)-1, -1, -1):\n",
    "    print(row[i])"
   ]
  },
  {
   "cell_type": "code",
   "execution_count": 8,
   "id": "5d88900b",
   "metadata": {},
   "outputs": [
    {
     "name": "stdout",
     "output_type": "stream",
     "text": [
      "12\n"
     ]
    }
   ],
   "source": [
    "print(len(row))"
   ]
  },
  {
   "cell_type": "code",
   "execution_count": null,
   "id": "701e538d",
   "metadata": {},
   "outputs": [],
   "source": [
    "for i in range (len(row)-1, -1, -1):#был еще 2 способ,но я его не помню\n",
    "    if i%2 ==1:\n",
    "        print(row[i])\n",
    "for i in range (len(row)-1, -1, -1):\n",
    "    if i%2 ==0:\n",
    "        print(row[i])\n",
    "    "
   ]
  }
 ],
 "metadata": {
  "kernelspec": {
   "display_name": "Python 3",
   "language": "python",
   "name": "python3"
  },
  "language_info": {
   "codemirror_mode": {
    "name": "ipython",
    "version": 3
   },
   "file_extension": ".py",
   "mimetype": "text/x-python",
   "name": "python",
   "nbconvert_exporter": "python",
   "pygments_lexer": "ipython3",
   "version": "3.8.8"
  }
 },
 "nbformat": 4,
 "nbformat_minor": 5
}
