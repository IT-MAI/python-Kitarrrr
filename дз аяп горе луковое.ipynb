{
 "cells": [
  {
   "cell_type": "code",
   "execution_count": null,
   "id": "24128650",
   "metadata": {},
   "outputs": [],
   "source": []
  },
  {
   "cell_type": "code",
   "execution_count": null,
   "id": "c1138c2b",
   "metadata": {},
   "outputs": [],
   "source": [
    "#1\n",
    "class Student:\n",
    "    def __init__(self,name,surname,g,age,i):\n",
    "        self.name = name\n",
    "        self.surname = surname\n",
    "        self.g = g\n",
    "        self.age = age\n",
    "        self.i = i\n",
    "\n",
    "\n",
    "    def __str__(self):\n",
    "        return f'name: {self.name}\\nsurname: {self.surname}\\ng: {self.g}\\nage: {self.age}\\ni: {self.i}\\n\\n'\n",
    "\n",
    "s1=Student('Илья','Кузьмичев','м',18,1098)\n",
    "s2=Student(\"Влада'a\",'Сорокина','ж',19,3878)\n",
    "s3=Student(\"Андрей'a\",'Вольфрамович','м',18,8787)\n",
    "s4=Student('Миша','Заделов','м',21,1234)\n",
    "s5=Student('Артемий','Бруснимов','м',20,9876)\n",
    "\n",
    "#2\n",
    "\n",
    "list_s=[s1,s2,s3,s4,s5]\n",
    "\n",
    "def sort_age(l_students):\n",
    "    for j in range(len(l_students)-1):\n",
    "        for i in range(len(l_students)-1):\n",
    "            if l_students[i+1].age<l_students[i].age:\n",
    "                l_students[i],l_students[i+1]=l_students[i+1],l_students[i]\n",
    "    for i in l_students:\n",
    "        print(i)\n",
    "print(sort_age(list_s))\n",
    "\n",
    "\n",
    "\n"
   ]
  },
  {
   "cell_type": "code",
   "execution_count": null,
   "id": "62a30faf",
   "metadata": {},
   "outputs": [],
   "source": []
  },
  {
   "cell_type": "code",
   "execution_count": null,
   "id": "58760c81",
   "metadata": {},
   "outputs": [],
   "source": []
  }
 ],
 "metadata": {
  "kernelspec": {
   "display_name": "Python 3",
   "language": "python",
   "name": "python3"
  },
  "language_info": {
   "codemirror_mode": {
    "name": "ipython",
    "version": 3
   },
   "file_extension": ".py",
   "mimetype": "text/x-python",
   "name": "python",
   "nbconvert_exporter": "python",
   "pygments_lexer": "ipython3",
   "version": "3.8.8"
  }
 },
 "nbformat": 4,
 "nbformat_minor": 5
}
