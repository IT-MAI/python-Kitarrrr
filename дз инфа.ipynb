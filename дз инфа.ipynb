{
 "cells": [
  {
   "cell_type": "code",
   "execution_count": 2,
   "id": "04542288",
   "metadata": {},
   "outputs": [
    {
     "name": "stdout",
     "output_type": "stream",
     "text": [
      "45\n",
      "[1, 0, 1, 1, 0, 1]\n"
     ]
    }
   ],
   "source": [
    "a = int(input()) #ввод исходных данных\n",
    "result = []\n",
    "\n",
    "while a: #заход в цикл\n",
    "    result.append(a % 2) #находим остаток от деления\n",
    "    a //= 2 #получение целой части от деления \n",
    "result.reverse() #переворачиваем строку\n",
    "print(result) #выводим результат"
   ]
  },
  {
   "cell_type": "code",
   "execution_count": 5,
   "id": "6e60a2ef",
   "metadata": {},
   "outputs": [
    {
     "name": "stdout",
     "output_type": "stream",
     "text": [
      "Сколько денег вкладываем? 40000\n",
      "На сколько лет? 1\n",
      "44000.0\n"
     ]
    }
   ],
   "source": [
    "def bank(a,time):\n",
    "    for each_year in range(time): #определяем год как целое число\n",
    "        a = (a * 1.1)\n",
    "    return a\n",
    "\n",
    "a=float(input(\"Сколько денег вкладываем? \"))\n",
    "\n",
    "time=int(input(\"На сколько лет? \"))\n",
    "\n",
    "print(bank(a,time))"
   ]
  },
  {
   "cell_type": "code",
   "execution_count": 6,
   "id": "bbe7faa3",
   "metadata": {},
   "outputs": [
    {
     "name": "stdout",
     "output_type": "stream",
     "text": [
      "4\n",
      "5\n",
      "3\n",
      "2\n",
      "3.1622776601683795\n"
     ]
    }
   ],
   "source": [
    "from math import sqrt\n",
    " \n",
    "def distance(x1, y1, x2, y2):\n",
    "    return sqrt((x1 - x2) ** 2 + (y1 - y2) ** 2)\n",
    " \n",
    "x1 = float(input())\n",
    "x2 = float(input())\n",
    "y1 = float(input())\n",
    "y2 = float(input())\n",
    "print(distance(x1, x2, y1, y2))"
   ]
  },
  {
   "cell_type": "code",
   "execution_count": 8,
   "id": "4214c8f0",
   "metadata": {},
   "outputs": [
    {
     "name": "stdout",
     "output_type": "stream",
     "text": [
      "Введите список, закончив его числом 0\n",
      "7\n",
      "5\n",
      "7\n",
      "0\n",
      "Введите число k\n",
      "9\n"
     ]
    },
    {
     "ename": "NameError",
     "evalue": "name 'A' is not defined",
     "output_type": "error",
     "traceback": [
      "\u001b[1;31m---------------------------------------------------------------------------\u001b[0m",
      "\u001b[1;31mNameError\u001b[0m                                 Traceback (most recent call last)",
      "\u001b[1;32m<ipython-input-8-8724942bb3d6>\u001b[0m in \u001b[0;36m<module>\u001b[1;34m\u001b[0m\n\u001b[0;32m     18\u001b[0m     \u001b[0mA\u001b[0m\u001b[1;33m.\u001b[0m\u001b[0mremove\u001b[0m\u001b[1;33m(\u001b[0m\u001b[0mk\u001b[0m\u001b[1;33m)\u001b[0m\u001b[1;33m\u001b[0m\u001b[1;33m\u001b[0m\u001b[0m\n\u001b[0;32m     19\u001b[0m \u001b[1;33m\u001b[0m\u001b[0m\n\u001b[1;32m---> 20\u001b[1;33m \u001b[0mA\u001b[0m\u001b[1;33m.\u001b[0m\u001b[0mpop\u001b[0m\u001b[1;33m(\u001b[0m\u001b[1;36m0\u001b[0m\u001b[1;33m)\u001b[0m\u001b[1;33m\u001b[0m\u001b[1;33m\u001b[0m\u001b[0m\n\u001b[0m\u001b[0;32m     21\u001b[0m \u001b[0mA\u001b[0m\u001b[1;33m.\u001b[0m\u001b[0mpop\u001b[0m\u001b[1;33m(\u001b[0m\u001b[0mlen\u001b[0m\u001b[1;33m(\u001b[0m\u001b[0mQ\u001b[0m\u001b[1;33m)\u001b[0m\u001b[1;33m-\u001b[0m\u001b[1;36m1\u001b[0m\u001b[1;33m)\u001b[0m\u001b[1;33m\u001b[0m\u001b[1;33m\u001b[0m\u001b[0m\n\u001b[0;32m     22\u001b[0m \u001b[1;33m\u001b[0m\u001b[0m\n",
      "\u001b[1;31mNameError\u001b[0m: name 'A' is not defined"
     ]
    }
   ],
   "source": [
    "print ('Введите список, закончив его числом 0')\n",
    "Q = [1]\n",
    "S = 0 \n",
    "i = -1\n",
    "buff = 1\n",
    "while buff != 0:\n",
    "    i +=1\n",
    "    Q.insert(i,(buff))\n",
    "    buff = int(input())\n",
    "\n",
    "\n",
    "print('Введите число k')\n",
    "k = int(input())\n",
    "\n",
    "dl = len(Q)\n",
    "\n",
    "while k in Q:\n",
    "    A.remove(k)\n",
    "\n",
    "A.pop(0)\n",
    "A.pop(len(Q)-1)\n",
    "\n",
    "print (Q)"
   ]
  },
  {
   "cell_type": "code",
   "execution_count": null,
   "id": "4e4dea03",
   "metadata": {},
   "outputs": [],
   "source": [
    "print ('Введите число А')\n",
    "\n",
    "A = int(input())\n",
    "fib = [0]*10000\n",
    "fib[1] = 1 \n",
    "for i in range(2,A+5):\n",
    "        fib[i] = fib[i-2] + fib[i-1]\n",
    "        if A == fib[i]:\n",
    "            print(' ',i)\n",
    "            break\n",
    "        elif A<i:\n",
    "            print (-1)"
   ]
  },
  {
   "cell_type": "code",
   "execution_count": null,
   "id": "9f9efb23",
   "metadata": {},
   "outputs": [],
   "source": [
    "print ('Введите коэффициенты квадратного уравнения a,b,c.')\n",
    "a = int(input())\n",
    "b = int(input())\n",
    "c = int(input())\n",
    "\n",
    "import math\n",
    "\n",
    "D = math.sqrt(b*b - 4*a*c)\n",
    "\n",
    "print(D)"
   ]
  },
  {
   "cell_type": "code",
   "execution_count": null,
   "id": "8151f6a5",
   "metadata": {},
   "outputs": [],
   "source": [
    "print ('введите значение N')\n",
    "N = int(input())\n",
    "\n",
    "i = 1\n",
    "\n",
    "while i*i <= N:\n",
    "    print(i*i)\n",
    "    i += 1"
   ]
  },
  {
   "cell_type": "code",
   "execution_count": null,
   "id": "958e6d33",
   "metadata": {},
   "outputs": [],
   "source": []
  }
 ],
 "metadata": {
  "kernelspec": {
   "display_name": "Python 3",
   "language": "python",
   "name": "python3"
  },
  "language_info": {
   "codemirror_mode": {
    "name": "ipython",
    "version": 3
   },
   "file_extension": ".py",
   "mimetype": "text/x-python",
   "name": "python",
   "nbconvert_exporter": "python",
   "pygments_lexer": "ipython3",
   "version": "3.8.8"
  }
 },
 "nbformat": 4,
 "nbformat_minor": 5
}
