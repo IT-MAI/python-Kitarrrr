{
 "cells": [
  {
   "cell_type": "code",
   "execution_count": 3,
   "id": "62da6645",
   "metadata": {},
   "outputs": [
    {
     "name": "stdout",
     "output_type": "stream",
     "text": [
      "Введите количество яблок\n",
      "5\n",
      "Введите число школьников\n",
      "2\n",
      "В корзине осталось 1 яблок\n"
     ]
    }
   ],
   "source": [
    "print ('Введите количество яблок')\n",
    "k = int(input())\n",
    "print ('Введите число школьников')\n",
    "n = int(input())\n",
    "print ('В корзине осталось',k%n,'яблок') #делим и находим остаток"
   ]
  },
  {
   "cell_type": "code",
   "execution_count": 4,
   "id": "c8acfb8e",
   "metadata": {},
   "outputs": [
    {
     "name": "stdout",
     "output_type": "stream",
     "text": [
      "Введите число минут\n",
      "34\n",
      "Время на часах: 0 часов 34 минут\n"
     ]
    }
   ],
   "source": [
    "print('Введите число минут')\n",
    "n = int(input())\n",
    "hours = n // 60\n",
    "mins = n % 60\n",
    "if hours >= 24: #Т.К время на часах показывают только одни сутки вычитаем 24\n",
    "    hours -=24\n",
    "print ('Время на часах:',hours,'часов',mins,'минут',sep=' ')"
   ]
  },
  {
   "cell_type": "code",
   "execution_count": 5,
   "id": "35c751df",
   "metadata": {},
   "outputs": [
    {
     "name": "stdout",
     "output_type": "stream",
     "text": [
      "Введите номер года\n",
      "51\n",
      "no\n"
     ]
    }
   ],
   "source": [
    "print ('Введите номер года')\n",
    "n = int(input())\n",
    "if ((n%10 == 4) and (n%100 == 0)) or(n%1000 == 400): #ОТКРЫВАЕМ ЦИКЛ,ОПРЕДЕЛЯЕМ ВИСОКОСТНОСТЬ\n",
    "                   print('yes')\n",
    "else:\n",
    "    print('no')"
   ]
  },
  {
   "cell_type": "code",
   "execution_count": 6,
   "id": "32b35247",
   "metadata": {},
   "outputs": [
    {
     "name": "stdout",
     "output_type": "stream",
     "text": [
      "Введите 3 числа\n",
      "567\n",
      "678\n",
      "12\n",
      "12\n"
     ]
    }
   ],
   "source": [
    "print ('Введите 3 числа')\n",
    "a = int(input())\n",
    "b = int(input())\n",
    "c = int(input())\n",
    "\n",
    "if (a<b) and (a<c): #используем каскадные списки и логические операции\n",
    "    print (a)\n",
    "elif (b<c) and (b<a):\n",
    "    print (b)\n",
    "elif (c<b) and (c<b):\n",
    "    print (c)"
   ]
  },
  {
   "cell_type": "code",
   "execution_count": 7,
   "id": "90735846",
   "metadata": {},
   "outputs": [
    {
     "name": "stdout",
     "output_type": "stream",
     "text": [
      "5\n",
      "6\n",
      "7\n",
      "1\n",
      "NO\n"
     ]
    }
   ],
   "source": [
    "x1 = int(input())\n",
    "y1 = int(input())\n",
    "x2 = int(input())\n",
    "y2 = int(input())\n",
    "if x1 == x2 or y1 == y2: #cмотрим соотношение координат и выводим ответ\n",
    "    print('YES')\n",
    "else:\n",
    "    print('NO')"
   ]
  },
  {
   "cell_type": "code",
   "execution_count": 8,
   "id": "e1b9a1d9",
   "metadata": {},
   "outputs": [
    {
     "name": "stdout",
     "output_type": "stream",
     "text": [
      "2\n",
      "4\n",
      "7\n",
      "1\n",
      "NO\n"
     ]
    }
   ],
   "source": [
    "x1 = int(input())\n",
    "y1 = int(input())\n",
    "x2 = int(input())\n",
    "y2 = int(input())\n",
    "x = abs(x1 - x2) #abs является аналогом модуля в математике\n",
    "y = abs(y1 - y2) #найдем разницу значений по модулю\n",
    "if x == 1 and y == 2 or x == 2 and y == 1: #выполним условие задачи\n",
    "    print('YES')\n",
    "else:\n",
    "    print('NO')"
   ]
  },
  {
   "cell_type": "code",
   "execution_count": 10,
   "id": "ed2a227b",
   "metadata": {},
   "outputs": [
    {
     "name": "stdout",
     "output_type": "stream",
     "text": [
      "10\n",
      "7\n",
      "1\n",
      "2\n",
      "1\n"
     ]
    }
   ],
   "source": [
    "n = int(input())\n",
    "m = int(input())\n",
    "x = int(input())\n",
    "y = int(input())\n",
    "if n > m: #смотрим мин и мах значение м и н\n",
    "    n, m = m, n\n",
    "if x >= n / 2:\n",
    "    x = n - x\n",
    "if y >= m / 2:\n",
    "    y = m - y\n",
    "if x < y: #выводим мин  м и н\n",
    "    print(x)\n",
    "else:\n",
    "    print(y)"
   ]
  },
  {
   "cell_type": "code",
   "execution_count": null,
   "id": "951482a4",
   "metadata": {},
   "outputs": [],
   "source": []
  }
 ],
 "metadata": {
  "kernelspec": {
   "display_name": "Python 3",
   "language": "python",
   "name": "python3"
  },
  "language_info": {
   "codemirror_mode": {
    "name": "ipython",
    "version": 3
   },
   "file_extension": ".py",
   "mimetype": "text/x-python",
   "name": "python",
   "nbconvert_exporter": "python",
   "pygments_lexer": "ipython3",
   "version": "3.8.8"
  }
 },
 "nbformat": 4,
 "nbformat_minor": 5
}
